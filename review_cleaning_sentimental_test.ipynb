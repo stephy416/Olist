{
 "cells": [
  {
   "cell_type": "code",
   "execution_count": 1,
   "metadata": {},
   "outputs": [],
   "source": [
    "import pandas as pd\n",
    "import nltk\n",
    "# nltk.download('stopwords')\n",
    "# nltk.download('rslp')\n",
    "# nltk.download('subjectivity')\n",
    "# nltk.download('vader_lexicon')\n",
    "from nltk.sentiment.vader import SentimentIntensityAnalyzer\n",
    "from matplotlib import pyplot as plt\n",
    "import seaborn as sns\n"
   ]
  },
  {
   "cell_type": "code",
   "execution_count": 2,
   "metadata": {},
   "outputs": [
    {
     "name": "stdout",
     "output_type": "stream",
     "text": [
      "                          review_id                          order_id   \n",
      "0  e64fb393e7b32834bb789ff8bb30750e  658677c97b385a9be170737859d3511b  \\\n",
      "1  f7c4243c7fe1938f181bec41a392bdeb  8e6bfb81e283fa7e4f11123a3fb894f1   \n",
      "2  8670d52e15e00043ae7de4c01cc2fe06  b9bf720beb4ab3728760088589c62129   \n",
      "3  4b49719c8a200003f700d3d986ea1a19  9d6f15f95d01e79bd1349cc208361f09   \n",
      "4  3948b09f7c818e2d86c9a546758b2335  e51478e7e277a83743b6f9991dbfa3fb   \n",
      "\n",
      "   review_score review_comment_title   \n",
      "0             5                  NaN  \\\n",
      "1             5                  NaN   \n",
      "2             4            recomendo   \n",
      "3             4                  NaN   \n",
      "4             5      Super recomendo   \n",
      "\n",
      "                              review_comment_message review_creation_date   \n",
      "0              Recebi bem antes do prazo estipulado.   2017-04-21 0:00:00  \\\n",
      "1  Parabéns lojas lannister adorei comprar pela I...   2018-03-01 0:00:00   \n",
      "2  aparelho eficiente. no site a marca do aparelh...   2018-05-22 0:00:00   \n",
      "3      Mas um pouco ,travando...pelo valor ta Boa.\\n   2018-02-16 0:00:00   \n",
      "4  Vendedor confiável, produto ok e entrega antes...   2018-05-23 0:00:00   \n",
      "\n",
      "  review_answer_timestamp                         review_comment_message_eng  \n",
      "0     2017-04-21 22:02:06               I received well before the deadline.  \n",
      "1     2018-03-02 10:26:53  Congratulations Lannister Stores I loved buyin...  \n",
      "2     2018-05-23 16:45:47  Efficient apparatus. On the site the brand of ...  \n",
      "3     2018-02-20 10:52:22  But a little, crashing ... for the value is go...  \n",
      "4      2018-05-24 3:00:01  Reliable seller, product OK and delivery befor...  \n"
     ]
    }
   ],
   "source": [
    "# load review with translated comment\n",
    "review_with_comment_translated = pd.read_csv('olist_order_reviews_with_comment_translated.csv')\n",
    "print(review_with_comment_translated.head())"
   ]
  },
  {
   "cell_type": "code",
   "execution_count": 3,
   "metadata": {},
   "outputs": [
    {
     "name": "stdout",
     "output_type": "stream",
     "text": [
      "0        0.2732\n",
      "1        0.9601\n",
      "2        0.4215\n",
      "3        0.7876\n",
      "4        0.4466\n",
      "          ...  \n",
      "40972    0.0000\n",
      "40973    0.7955\n",
      "40974   -0.5583\n",
      "40975    0.9359\n",
      "40976   -0.4404\n",
      "Name: polarity scores, Length: 40977, dtype: float64\n"
     ]
    }
   ],
   "source": [
    "sia = SentimentIntensityAnalyzer()\n",
    "\n",
    "# make sure comments is a string type\n",
    "review_with_comment_translated['review_comment_message_eng'] = review_with_comment_translated['review_comment_message_eng'].astype(str)\n",
    "# run lambda function on every comments and give polarity scores\n",
    "review_with_comment_translated['polarity scores'] = review_with_comment_translated['review_comment_message_eng'].apply(lambda x: sia.polarity_scores(x)['compound'])\n",
    "\n",
    "print(review_with_comment_translated['polarity scores'])\n"
   ]
  },
  {
   "cell_type": "code",
   "execution_count": 5,
   "metadata": {},
   "outputs": [
    {
     "name": "stdout",
     "output_type": "stream",
     "text": [
      "sentiment\n",
      "Positive         17524\n",
      "Neutral          12712\n",
      "Very Positive     4273\n",
      "Very Negative     3405\n",
      "Negative          3063\n",
      "Name: count, dtype: int64\n"
     ]
    }
   ],
   "source": [
    "# Create a function to map polarity scores to sentiment categories\n",
    "def get_sentiment(score):\n",
    "    if score < -0.4:\n",
    "        return \"Very Negative\"\n",
    "    elif -0.4 <= score < 0:\n",
    "        return \"Negative\"\n",
    "    elif 0 <= score < 0.3:\n",
    "        return \"Neutral\"\n",
    "    elif 0.3 <= score < 0.8:\n",
    "        return \"Positive\"\n",
    "    elif score >= 0.8:\n",
    "        return \"Very Positive\"\n",
    "    else:\n",
    "        return \"Unknown\"  # Handle any other cases if needed\n",
    "\n",
    "# Apply the function to create the new 'sentiment' column\n",
    "review_with_comment_translated['sentiment'] = review_with_comment_translated['polarity scores'].apply(get_sentiment)\n",
    "\n",
    "print(review_with_comment_translated['sentiment'].value_counts())\n"
   ]
  },
  {
   "cell_type": "code",
   "execution_count": 6,
   "metadata": {},
   "outputs": [],
   "source": [
    "# export csv file\n",
    "review_with_comment_translated.to_csv('olist_reviews_polarity_score.csv', index = False)"
   ]
  }
 ],
 "metadata": {
  "kernelspec": {
   "display_name": "Python 3",
   "language": "python",
   "name": "python3"
  },
  "language_info": {
   "codemirror_mode": {
    "name": "ipython",
    "version": 3
   },
   "file_extension": ".py",
   "mimetype": "text/x-python",
   "name": "python",
   "nbconvert_exporter": "python",
   "pygments_lexer": "ipython3",
   "version": "3.10.11"
  },
  "orig_nbformat": 4
 },
 "nbformat": 4,
 "nbformat_minor": 2
}
